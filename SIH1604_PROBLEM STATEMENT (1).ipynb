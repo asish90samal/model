{
 "cells": [
  {
   "cell_type": "code",
   "execution_count": 1,
   "id": "c39d73eb",
   "metadata": {},
   "outputs": [
    {
     "name": "stderr",
     "output_type": "stream",
     "text": [
      "C:\\Users\\adity\\anaconda3\\lib\\site-packages\\torchvision\\models\\_utils.py:208: UserWarning: The parameter 'pretrained' is deprecated since 0.13 and may be removed in the future, please use 'weights' instead.\n",
      "  warnings.warn(\n",
      "C:\\Users\\adity\\anaconda3\\lib\\site-packages\\torchvision\\models\\_utils.py:223: UserWarning: Arguments other than a weight enum or `None` for 'weights' are deprecated since 0.13 and may be removed in the future. The current behavior is equivalent to passing `weights=ResNet50_Weights.IMAGENET1K_V1`. You can also use `weights=ResNet50_Weights.DEFAULT` to get the most up-to-date weights.\n",
      "  warnings.warn(msg)\n"
     ]
    }
   ],
   "source": [
    "#Image Recognition using Pre-trained Model\n",
    "#We'll use a pre-trained model like ResNet or EfficientNet for image recognition.\n",
    "\n",
    "import torch\n",
    "from torchvision import models, transforms\n",
    "from PIL import Image\n",
    "\n",
    "# Load a pre-trained model\n",
    "model = models.resnet50(pretrained=True)\n",
    "model.eval()\n",
    "\n",
    "# Define image transformations\n",
    "transform = transforms.Compose([\n",
    "    transforms.Resize(256),\n",
    "    transforms.CenterCrop(224),\n",
    "    transforms.ToTensor(),\n",
    "    transforms.Normalize(mean=[0.485, 0.456, 0.406], std=[0.229, 0.224, 0.225]),\n",
    "])\n",
    "\n",
    "# Image recognition function\n",
    "def recognize_image(image_path):\n",
    "    image = Image.open(image_path)\n",
    "    image = transform(image).unsqueeze(0)\n",
    "    with torch.no_grad():\n",
    "        outputs = model(image)\n",
    "    _, predicted = outputs.max(1)\n",
    "    return predicted.item()\n"
   ]
  },
  {
   "cell_type": "code",
   "execution_count": 2,
   "id": "42077771",
   "metadata": {},
   "outputs": [
    {
     "name": "stdout",
     "output_type": "stream",
     "text": [
      "WARNING:tensorflow:From C:\\Users\\adity\\anaconda3\\lib\\site-packages\\keras\\src\\losses.py:2976: The name tf.losses.sparse_softmax_cross_entropy is deprecated. Please use tf.compat.v1.losses.sparse_softmax_cross_entropy instead.\n",
      "\n"
     ]
    }
   ],
   "source": [
    "from transformers import GPT2Tokenizer, GPT2LMHeadModel\n",
    "\n",
    "# Load pre-trained GPT model\n",
    "tokenizer = GPT2Tokenizer.from_pretrained('gpt2')\n",
    "model = GPT2LMHeadModel.from_pretrained('gpt2')\n",
    "\n",
    "# NLP query function\n",
    "def generate_response(query):\n",
    "    inputs = tokenizer.encode(query, return_tensors='pt')\n",
    "    outputs = model.generate(inputs, max_length=50, do_sample=True)\n",
    "    response = tokenizer.decode(outputs[0], skip_special_tokens=True)\n",
    "    return response\n"
   ]
  },
  {
   "cell_type": "code",
   "execution_count": 3,
   "id": "c49e8001",
   "metadata": {},
   "outputs": [
    {
     "name": "stdout",
     "output_type": "stream",
     "text": [
      "ImageNet class labels saved to imagenet_classes.txt\n"
     ]
    }
   ],
   "source": [
    "import requests\n",
    "\n",
    "# URL for ImageNet class labels\n",
    "url = \"https://storage.googleapis.com/download.tensorflow.org/data/imagenet_class_index.json\"\n",
    "\n",
    "# Fetch and load the labels\n",
    "response = requests.get(url)\n",
    "labels = response.json()\n",
    "\n",
    "# Extract class names\n",
    "labels_list = [labels[str(i)][1] for i in range(1000)]\n",
    "\n",
    "# Save to a text file\n",
    "with open('imagenet_classes.txt', 'w') as f:\n",
    "    for label in labels_list:\n",
    "        f.write(label + '\\n')\n",
    "\n",
    "print(\"ImageNet class labels saved to imagenet_classes.txt\")\n"
   ]
  },
  {
   "cell_type": "code",
   "execution_count": 4,
   "id": "6939d34c",
   "metadata": {},
   "outputs": [
    {
     "name": "stderr",
     "output_type": "stream",
     "text": [
      "C:\\Users\\adity\\anaconda3\\lib\\site-packages\\torchvision\\models\\_utils.py:208: UserWarning: The parameter 'pretrained' is deprecated since 0.13 and may be removed in the future, please use 'weights' instead.\n",
      "  warnings.warn(\n",
      "C:\\Users\\adity\\anaconda3\\lib\\site-packages\\torchvision\\models\\_utils.py:223: UserWarning: Arguments other than a weight enum or `None` for 'weights' are deprecated since 0.13 and may be removed in the future. The current behavior is equivalent to passing `weights=ResNet50_Weights.IMAGENET1K_V1`. You can also use `weights=ResNet50_Weights.DEFAULT` to get the most up-to-date weights.\n",
      "  warnings.warn(msg)\n"
     ]
    }
   ],
   "source": [
    "import torch\n",
    "import torch.nn as nn\n",
    "from torchvision import models, transforms\n",
    "from PIL import Image\n",
    "from io import BytesIO\n",
    "import requests\n",
    "import os\n",
    "\n",
    "# Load the pre-trained model\n",
    "model = models.resnet50(pretrained=True)\n",
    "model.eval()  # Set the model to evaluation mode\n",
    "\n",
    "# Load ImageNet class labels\n",
    "with open('imagenet_classes.txt') as f:\n",
    "    labels = [line.strip() for line in f.readlines()]\n",
    "\n",
    "def recognize_image(image_path):\n",
    "    # Check if the image_path is a URL or a local file path\n",
    "    if image_path.startswith('http://') or image_path.startswith('https://'):\n",
    "        # Download the image from the URL\n",
    "        response = requests.get(image_path)\n",
    "        image = Image.open(BytesIO(response.content))\n",
    "    else:\n",
    "        # Load the image from the local file system\n",
    "        if not os.path.isfile(image_path):\n",
    "            raise FileNotFoundError(f\"Local file not found: {image_path}\")\n",
    "        image = Image.open(image_path)\n",
    "    \n",
    "    # Transform the image\n",
    "    transform = transforms.Compose([\n",
    "        transforms.Resize((224, 224)),\n",
    "        transforms.ToTensor(),\n",
    "        transforms.Normalize(mean=[0.485, 0.456, 0.406], std=[0.229, 0.224, 0.225])  # Normalization for ResNet\n",
    "    ])\n",
    "    image = transform(image).unsqueeze(0)  # Add batch dimension\n",
    "    \n",
    "    # Run the model\n",
    "    with torch.no_grad():\n",
    "        outputs = model(image)\n",
    "    \n",
    "    # Get the predicted class\n",
    "    _, predicted = outputs.max(1)\n",
    "    return predicted.item()\n",
    "\n",
    "def generate_response(query_with_object):\n",
    "    # Placeholder function for generating a response using NLP\n",
    "    return f\"Here is some information {query_with_object}.\"\n",
    "\n",
    "def chatbot(image_path, user_query):\n",
    "    # Recognize objects in the image\n",
    "    object_id = recognize_image(image_path)\n",
    "    \n",
    "    # Map the object ID to a label from ImageNet\n",
    "    recognized_object = labels[object_id]\n",
    "    \n",
    "    # Use NLP to generate a response\n",
    "    query_with_object = f\"{user_query} about a {recognized_object}\"\n",
    "    response = generate_response(query_with_object)\n",
    "    \n",
    "    return response\n"
   ]
  },
  {
   "cell_type": "code",
   "execution_count": 5,
   "id": "df20fee0",
   "metadata": {},
   "outputs": [
    {
     "name": "stdout",
     "output_type": "stream",
     "text": [
      "Here is some information Tell me more about a tank.\n",
      "Here is some information Tell me more about a warplane.\n"
     ]
    }
   ],
   "source": [
    "# For a local file path\n",
    "local_image_path = r\"C:\\Users\\adity\\Downloads\\panzermkiv1200.jpg\"  # Replace with the actual path to your local image\n",
    "user_query = \"Tell me more\"\n",
    "response = chatbot(local_image_path, user_query)\n",
    "print(response)\n",
    "\n",
    "# For an image URL\n",
    "image_url = \"https://g.foolcdn.com/image/?url=https%3A%2F%2Fg.foolcdn.com%2Feditorial%2Fimages%2F168693%2Ff-16.jpg&op=resize&w=700\"  # Replace with the actual URL to your image\n",
    "response = chatbot(image_url, user_query)\n",
    "print(response)\n"
   ]
  },
  {
   "cell_type": "code",
   "execution_count": null,
   "id": "b5c3e1e9",
   "metadata": {},
   "outputs": [
    {
     "name": "stdout",
     "output_type": "stream",
     "text": [
      " * Serving Flask app '__main__'\n",
      " * Debug mode: off\n"
     ]
    },
    {
     "name": "stderr",
     "output_type": "stream",
     "text": [
      "WARNING: This is a development server. Do not use it in a production deployment. Use a production WSGI server instead.\n",
      " * Running on all addresses (0.0.0.0)\n",
      " * Running on http://127.0.0.1:5000\n",
      " * Running on http://192.168.1.3:5000\n",
      "Press CTRL+C to quit\n"
     ]
    }
   ],
   "source": [
    "from flask import Flask, request, jsonify\n",
    "\n",
    "app = Flask(__name__)\n",
    "\n",
    "@app.route('/chatbot', methods=['POST'])\n",
    "def chatbot_api():\n",
    "    image = request.files['image']\n",
    "    query = request.form['query']\n",
    "    \n",
    "    image_path = r\"C:\\Users\\adity\\Downloads\\6aofsvaglm_Medium_WW226365.jpg\"\n",
    "    image.save(image_path)\n",
    "    \n",
    "    response = chatbot(image_path, query)\n",
    "    return jsonify({\"response\": response})\n",
    "\n",
    "if __name__ == '__main__':\n",
    "    app.run(host='0.0.0.0', port=5000)\n"
   ]
  },
  {
   "cell_type": "code",
   "execution_count": null,
   "id": "67b993e1",
   "metadata": {},
   "outputs": [],
   "source": [
    "curl -X POST -F 'image=C:\\Users\\adity\\Downloads\\6aofsvaglm_Medium_WW226365.jpg' -F 'query=Tell me more' http://localhost:5000/chatbot\n"
   ]
  },
  {
   "cell_type": "code",
   "execution_count": null,
   "id": "55bbd38b",
   "metadata": {},
   "outputs": [],
   "source": []
  }
 ],
 "metadata": {
  "kernelspec": {
   "display_name": "Python 3 (ipykernel)",
   "language": "python",
   "name": "python3"
  },
  "language_info": {
   "codemirror_mode": {
    "name": "ipython",
    "version": 3
   },
   "file_extension": ".py",
   "mimetype": "text/x-python",
   "name": "python",
   "nbconvert_exporter": "python",
   "pygments_lexer": "ipython3",
   "version": "3.10.9"
  }
 },
 "nbformat": 4,
 "nbformat_minor": 5
}
